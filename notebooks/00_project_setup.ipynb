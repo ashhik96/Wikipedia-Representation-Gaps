{
 "cells": [
  {
   "cell_type": "code",
   "execution_count": 1,
   "id": "c8ff1bfb-030b-41ec-a280-f4bafd55f6dc",
   "metadata": {},
   "outputs": [
    {
     "name": "stdout",
     "output_type": "stream",
     "text": [
      "✅ Created or verified: C:\\Users\\drrahman\\wiki-gaps-project\\conf\n",
      "✅ Created or verified: C:\\Users\\drrahman\\wiki-gaps-project\\data\\cache\n",
      "✅ Created or verified: C:\\Users\\drrahman\\wiki-gaps-project\\data\\raw\n",
      "✅ Created or verified: C:\\Users\\drrahman\\wiki-gaps-project\\data\\processed\n",
      "✅ Created or verified: C:\\Users\\drrahman\\wiki-gaps-project\\notebooks\n"
     ]
    }
   ],
   "source": [
    "from pathlib import Path\n",
    "\n",
    "# The root directory is the current working directory\n",
    "ROOT = Path.cwd()\n",
    "\n",
    "# List of all directories we need\n",
    "dirs_to_create = [\n",
    "    ROOT / \"conf\",\n",
    "    ROOT / \"data\" / \"cache\",\n",
    "    ROOT / \"data\" / \"raw\",\n",
    "    ROOT / \"data\" / \"processed\",\n",
    "    ROOT / \"notebooks\"\n",
    "]\n",
    "\n",
    "# Loop and create each directory\n",
    "for dir_path in dirs_to_create:\n",
    "    # 'parents=True' creates any needed parent folders (like 'data')\n",
    "    # 'exist_ok=True' prevents an error if the folder already exists\n",
    "    dir_path.mkdir(parents=True, exist_ok=True)\n",
    "    print(f\"✅ Created or verified: {dir_path}\")"
   ]
  },
  {
   "cell_type": "code",
   "execution_count": null,
   "id": "c3591a6c-3f87-4785-94b7-c573630b5f2a",
   "metadata": {},
   "outputs": [],
   "source": []
  }
 ],
 "metadata": {
  "kernelspec": {
   "display_name": "Python 3 (ipykernel)",
   "language": "python",
   "name": "python3"
  },
  "language_info": {
   "codemirror_mode": {
    "name": "ipython",
    "version": 3
   },
   "file_extension": ".py",
   "mimetype": "text/x-python",
   "name": "python",
   "nbconvert_exporter": "python",
   "pygments_lexer": "ipython3",
   "version": "3.11.13"
  }
 },
 "nbformat": 4,
 "nbformat_minor": 5
}
