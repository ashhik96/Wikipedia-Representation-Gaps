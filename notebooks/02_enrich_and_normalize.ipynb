{
 "cells": [
  {
   "cell_type": "code",
   "execution_count": 1,
   "id": "9bbb1572-339b-4bac-a06e-24651dc04a41",
   "metadata": {},
   "outputs": [
    {
     "name": "stdout",
     "output_type": "stream",
     "text": [
      "✅ Project Root: C:\\Users\\drrahman\\wiki-gaps-project\n",
      "✅ Config loaded for project: 'wiki-gaps'\n",
      "✅ Loaded seed file: seed_enwiki_20251007-213232.csv | Rows: 1,125,607\n",
      "✅ Setup complete. Ready to proceed.\n"
     ]
    }
   ],
   "source": [
    "# Cell 1: Setup and Load Data\n",
    "\n",
    "# 1. Import all required Python libraries.\n",
    "# 2. Set the project's root path and loads the configuration.\n",
    "# 3. Find and load the 'seed_enwiki_*.csv' file created by the first notebook.\n",
    "\n",
    "import time\n",
    "import json\n",
    "import re\n",
    "import requests\n",
    "import pandas as pd\n",
    "import sqlite3\n",
    "import os\n",
    "import itertools\n",
    "from pathlib import Path\n",
    "from tqdm.notebook import tqdm\n",
    "from collections import Counter\n",
    "import ast\n",
    "\n",
    "# --- Project Configuration ---\n",
    "ROOT = Path.cwd()\n",
    "if ROOT.name == \"notebooks\":\n",
    "    ROOT = ROOT.parent\n",
    "\n",
    "CONF = json.load(open(ROOT / \"conf\" / \"project.json\"))\n",
    "print(f\"✅ Project Root: {ROOT}\")\n",
    "print(f\"✅ Config loaded for project: '{CONF['project']}'\")\n",
    "\n",
    "# --- Load Seed Data from Notebook 01 ---\n",
    "# Find the most recent seed file in the 'data/raw' directory\n",
    "try:\n",
    "    seed_path = sorted((ROOT / \"data\" / \"raw\").glob(\"seed_enwiki_*.csv\"))[-1]\n",
    "    seed_df = pd.read_csv(seed_path)\n",
    "    print(f\"✅ Loaded seed file: {seed_path.name} | Rows: {len(seed_df):,}\")\n",
    "except IndexError:\n",
    "    print(\"❌ Error: No seed file found in 'data/raw/'. Please run notebook 01 first.\")\n",
    "    # Create an empty df to allow the notebook to load, but it will fail later\n",
    "    seed_df = pd.DataFrame()\n",
    "\n",
    "# --- Create Output Directories ---\n",
    "TMP_ENRICHED_DIR = ROOT / \"data\" / \"processed\" / \"tmp_enriched\"\n",
    "TMP_NORMALIZED_DIR = ROOT / \"data\" / \"processed\" / \"tmp_normalized\"\n",
    "TMP_ENRICHED_DIR.mkdir(parents=True, exist_ok=True)\n",
    "TMP_NORMALIZED_DIR.mkdir(parents=True, exist_ok=True)\n",
    "\n",
    "print(\"✅ Setup complete. Ready to proceed.\")"
   ]
  },
  {
   "cell_type": "code",
   "execution_count": 3,
   "id": "b5452d13-d547-4ead-9f03-081e111f4700",
   "metadata": {},
   "outputs": [
    {
     "name": "stdout",
     "output_type": "stream",
     "text": [
      "✅ API session configured.\n",
      "✅ SQLite cache ready at: C:\\Users\\drrahman\\wiki-gaps-project\\data\\cache\\wd_cache.sqlite\n"
     ]
    }
   ],
   "source": [
    "# Cell 2: API Session and Cache Setup \n",
    "\n",
    "# This cell prepares the tools for data enrichment. \n",
    "# It sets up a robust session for making API requests and initializes a local SQLite database to cache all results, making the long-running process resumable.\n",
    "\n",
    "from requests.adapters import HTTPAdapter\n",
    "from urllib3.util.retry import Retry\n",
    "\n",
    "# --- API Session Setup ---\n",
    "def make_api_session(user_agent: str):\n",
    "    \"\"\"Creates a robust requests session with retries and a custom user agent.\"\"\"\n",
    "    s = requests.Session()\n",
    "    s.headers.update({\"User-Agent\": user_agent})\n",
    "    retries = Retry(\n",
    "        total=6, connect=6, read=6, status=6,\n",
    "        status_forcelist=(429, 502, 503, 504),\n",
    "        backoff_factor=0.8,\n",
    "        respect_retry_after_header=True\n",
    "    )\n",
    "    s.mount(\"https://\", HTTPAdapter(max_retries=retries))\n",
    "    return s\n",
    "\n",
    "WIKIDATA_API = \"https://www.wikidata.org/w/api.php\"\n",
    "USER_AGENT = f\"WikiGaps/0.1 (contact: ashhik96@gmail.com)\"\n",
    "SESSION_WD = make_api_session(USER_AGENT)\n",
    "\n",
    "print(\"✅ API session configured.\")\n",
    "\n",
    "# --- SQLite Cache Setup ---\n",
    "CACHE_DB_PATH = ROOT / \"data\" / \"cache\" / \"wd_cache.sqlite\"\n",
    "conn = sqlite3.connect(CACHE_DB_PATH)\n",
    "cur = conn.cursor()\n",
    "\n",
    "# Define the schema for storing entity data and labels. \n",
    "cur.executescript(\"\"\"\n",
    "    PRAGMA journal_mode=WAL;\n",
    "    PRAGMA synchronous=NORMAL;\n",
    "\n",
    "    CREATE TABLE IF NOT EXISTS entity_min (\n",
    "      qid TEXT PRIMARY KEY,\n",
    "      title TEXT,\n",
    "      gender_qids TEXT,\n",
    "      country_qids TEXT,\n",
    "      occupation_qids TEXT,\n",
    "      pob_qids TEXT\n",
    "    );\n",
    "\n",
    "    CREATE TABLE IF NOT EXISTS label (\n",
    "      qid TEXT NOT NULL,\n",
    "      lang TEXT NOT NULL,\n",
    "      label TEXT,\n",
    "      PRIMARY KEY (qid, lang)\n",
    "    );\n",
    "\"\"\")\n",
    "conn.commit()\n",
    "print(f\"✅ SQLite cache ready at: {CACHE_DB_PATH}\")"
   ]
  },
  {
   "cell_type": "code",
   "execution_count": 4,
   "id": "25632372-117d-4ec9-a12e-cf76db5531d8",
   "metadata": {},
   "outputs": [
    {
     "name": "stdout",
     "output_type": "stream",
     "text": [
      "✅ Cache helper functions are ready.\n"
     ]
    }
   ],
   "source": [
    "# Cell 3: Cache Helper Functions\n",
    "\n",
    "# This cell defines the helper functions that the script will use to read from and write to the SQLite cache. \n",
    "\n",
    "def cache_get_entity_min(qids: list[str]) -> dict:\n",
    "    \"\"\"Retrieves full entity records from the cache.\"\"\"\n",
    "    if not qids: return {}\n",
    "    qmarks = \",\".join(\"?\" for _ in qids)\n",
    "    cur.execute(f\"\"\"\n",
    "        SELECT qid, title, gender_qids, country_qids, occupation_qids, pob_qids\n",
    "        FROM entity_min WHERE qid IN ({qmarks})\n",
    "    \"\"\", qids)\n",
    "    \n",
    "    records = {}\n",
    "    for r in cur.fetchall():\n",
    "        records[r[0]] = {\n",
    "            \"qid\": r[0], \"title\": r[1], \"gender_qids\": r[2] or \"\", \n",
    "            \"country_qids\": r[3] or \"\", \"occupation_qids\": r[4] or \"\",\n",
    "            \"pob_qids\": r[5] or \"\"\n",
    "        }\n",
    "    return records\n",
    "\n",
    "def cache_put_entity_min(rows: list[dict]):\n",
    "    \"\"\"Inserts or replaces entity records in the cache.\"\"\"\n",
    "    if not rows: return\n",
    "    # Ensure all keys are present in each row dict to prevent errors\n",
    "    for r in rows:\n",
    "        r.setdefault(\"pob_qids\", \"\")\n",
    "        \n",
    "    cur.executemany(\"\"\"\n",
    "        INSERT OR REPLACE INTO entity_min\n",
    "        (qid, title, gender_qids, country_qids, occupation_qids, pob_qids)\n",
    "        VALUES (:qid, :title, :gender_qids, :country_qids, :occupation_qids, :pob_qids)\n",
    "    \"\"\", rows)\n",
    "    conn.commit()\n",
    "\n",
    "def cache_get_labels(qids: list[str], lang=\"en\") -> dict:\n",
    "    \"\"\"Retrieves labels for a list of QIDs.\"\"\"\n",
    "    if not qids: return {}\n",
    "    qmarks = \",\".join(\"?\" for _ in qids)\n",
    "    cur.execute(f\"SELECT qid, label FROM label WHERE lang=? AND qid IN ({qmarks})\", [lang, *qids])\n",
    "    return dict(cur.fetchall())\n",
    "\n",
    "def cache_put_labels(mapping: dict, lang=\"en\"):\n",
    "    \"\"\"Inserts or replaces labels in the cache.\"\"\"\n",
    "    if not mapping: return\n",
    "    cur.executemany(\n",
    "        \"INSERT OR REPLACE INTO label(qid, lang, label) VALUES (?,?,?)\",\n",
    "        [(qid, lang, lbl) for qid, lbl in mapping.items()]\n",
    "    )\n",
    "    conn.commit()\n",
    "\n",
    "print(\"✅ Cache helper functions are ready.\")"
   ]
  },
  {
   "cell_type": "code",
   "execution_count": 5,
   "id": "eda2afb9-b5a7-4779-a240-5dfa3fae6384",
   "metadata": {},
   "outputs": [
    {
     "name": "stdout",
     "output_type": "stream",
     "text": [
      "✅ Wikidata API helper functions are ready.\n"
     ]
    }
   ],
   "source": [
    "# Cell 4: Wikidata API Functions\n",
    "\n",
    "# This cell defines the functions that will communicate with the live Wikidata API.\n",
    "# One function gets the enriched data (gender, country, etc.), and the other gets the human-readable labels for the Wikidata QIDs.\n",
    "\n",
    "def wd_get_enriched_entities(qids: list[str], lang=\"en\") -> tuple[list[dict], set]:\n",
    "    \"\"\"\n",
    "    Fetches enriched data for up to 50 QIDs from the Wikidata API.\n",
    "    \n",
    "    Returns a tuple containing:\n",
    "      - A list of dicts with the structured data for each entity.\n",
    "      - A set of all unique \"value\" QIDs encountered (for fetching labels later).\n",
    "    \"\"\"\n",
    "    if not qids: return [], set()\n",
    "    \n",
    "    params = {\n",
    "        \"action\": \"wbgetentities\",\n",
    "        \"ids\": \"|\".join(qids),\n",
    "        \"props\": \"claims|sitelinks\",\n",
    "        \"languages\": lang,\n",
    "        \"format\": \"json\"\n",
    "    }\n",
    "    \n",
    "    try:\n",
    "        r = SESSION_WD.get(WIKIDATA_API, params=params, timeout=90)\n",
    "        r.raise_for_status()\n",
    "        data = r.json()\n",
    "    except requests.RequestException as e:\n",
    "        print(f\"❌ API Error: {e}\")\n",
    "        return [], set()\n",
    "\n",
    "    entities = data.get(\"entities\", {})\n",
    "    output_rows = []\n",
    "    value_qids_to_label = set()\n",
    "\n",
    "    for qid, ent in entities.items():\n",
    "        # Helper to extract QIDs from a claim and add them to our set for labeling\n",
    "        def get_claim_qids(prop_id):\n",
    "            qids_found = []\n",
    "            for claim in ent.get(\"claims\", {}).get(prop_id, []):\n",
    "                val = claim.get(\"mainsnak\", {}).get(\"datavalue\", {}).get(\"value\")\n",
    "                if isinstance(val, dict) and \"id\" in val:\n",
    "                    qid_val = val[\"id\"]\n",
    "                    qids_found.append(qid_val)\n",
    "                    value_qids_to_label.add(qid_val)\n",
    "            return \"|\".join(dict.fromkeys(qids_found)) # Preserve order, remove duplicates\n",
    "\n",
    "        title = ent.get(\"sitelinks\", {}).get(f\"{lang}wiki\", {}).get(\"title\")\n",
    "        \n",
    "        output_rows.append({\n",
    "            \"qid\": qid,\n",
    "            \"title\": title,\n",
    "            \"gender_qids\": get_claim_qids(CONF[\"attrs\"][\"gender\"]),\n",
    "            \"country_qids\": get_claim_qids(CONF[\"attrs\"][\"country\"]),\n",
    "            \"occupation_qids\": get_claim_qids(CONF[\"attrs\"][\"occupation\"]),\n",
    "            \"pob_qids\": get_claim_qids(\"P19\"), # Place of Birth\n",
    "        })\n",
    "        \n",
    "    return output_rows, value_qids_to_label\n",
    "\n",
    "\n",
    "def wd_get_labels(qids: list[str], lang=\"en\") -> dict:\n",
    "    \"\"\"Fetches labels for up to 50 QIDs.\"\"\"\n",
    "    if not qids: return {}\n",
    "    \n",
    "    params = {\n",
    "        \"action\": \"wbgetentities\",\n",
    "        \"ids\": \"|\".join(qids[:50]),\n",
    "        \"props\": \"labels\",\n",
    "        \"languages\": lang,\n",
    "        \"format\": \"json\"\n",
    "    }\n",
    "    \n",
    "    try:\n",
    "        r = SESSION_WD.get(WIKIDATA_API, params=params, timeout=60)\n",
    "        r.raise_for_status()\n",
    "        entities = r.json().get(\"entities\", {})\n",
    "        return {qid: ent.get(\"labels\", {}).get(lang, {}).get(\"value\") for qid, ent in entities.items()}\n",
    "    except requests.RequestException as e:\n",
    "        print(f\"❌ API Error fetching labels: {e}\")\n",
    "        return {}\n",
    "\n",
    "print(\"✅ Wikidata API helper functions are ready.\")"
   ]
  },
  {
   "cell_type": "code",
   "execution_count": 6,
   "id": "a48cc13f-5d10-4bbf-9e18-21d9a393d883",
   "metadata": {},
   "outputs": [
    {
     "name": "stdout",
     "output_type": "stream",
     "text": [
      "▶️ Resuming from row 0 (found 0 completed chunks).\n",
      "\n",
      "--- Processing Chunk 1 (20,000 QIDs) ---\n",
      "🔍 Cache hit: 0. Missing: 20,000.\n"
     ]
    },
    {
     "data": {
      "application/vnd.jupyter.widget-view+json": {
       "model_id": "5688b2c76c624672ae0c6b2fb8a175ea",
       "version_major": 2,
       "version_minor": 0
      },
      "text/plain": [
       "Fetching from Wikidata:   0%|          | 0/400 [00:00<?, ?it/s]"
      ]
     },
     "metadata": {},
     "output_type": "display_data"
    },
    {
     "data": {
      "application/vnd.jupyter.widget-view+json": {
       "model_id": "cdef0d65f7c34cca9976d96c18342024",
       "version_major": 2,
       "version_minor": 0
      },
      "text/plain": [
       "Fetching labels:   0%|          | 0/174 [00:00<?, ?it/s]"
      ]
     },
     "metadata": {},
     "output_type": "display_data"
    },
    {
     "name": "stdout",
     "output_type": "stream",
     "text": [
      "✅ Chunk 1 saved to enriched_chunk_0001.csv\n",
      "\n",
      "--- Processing Chunk 2 (20,000 QIDs) ---\n",
      "🔍 Cache hit: 0. Missing: 20,000.\n"
     ]
    },
    {
     "data": {
      "application/vnd.jupyter.widget-view+json": {
       "model_id": "fa4579b7568245b5bf37c8e6475cc99d",
       "version_major": 2,
       "version_minor": 0
      },
      "text/plain": [
       "Fetching from Wikidata:   0%|          | 0/400 [00:00<?, ?it/s]"
      ]
     },
     "metadata": {},
     "output_type": "display_data"
    },
    {
     "data": {
      "application/vnd.jupyter.widget-view+json": {
       "model_id": "f7d1264f16b14063a36ad7685489895d",
       "version_major": 2,
       "version_minor": 0
      },
      "text/plain": [
       "Fetching labels:   0%|          | 0/86 [00:00<?, ?it/s]"
      ]
     },
     "metadata": {},
     "output_type": "display_data"
    },
    {
     "name": "stdout",
     "output_type": "stream",
     "text": [
      "✅ Chunk 2 saved to enriched_chunk_0002.csv\n",
      "\n",
      "--- Processing Chunk 3 (20,000 QIDs) ---\n",
      "🔍 Cache hit: 0. Missing: 20,000.\n"
     ]
    },
    {
     "data": {
      "application/vnd.jupyter.widget-view+json": {
       "model_id": "9044f42f240742d2a99bcc61ea1f360e",
       "version_major": 2,
       "version_minor": 0
      },
      "text/plain": [
       "Fetching from Wikidata:   0%|          | 0/400 [00:00<?, ?it/s]"
      ]
     },
     "metadata": {},
     "output_type": "display_data"
    },
    {
     "data": {
      "application/vnd.jupyter.widget-view+json": {
       "model_id": "50294d2bb8e64053b12d1774fd263a55",
       "version_major": 2,
       "version_minor": 0
      },
      "text/plain": [
       "Fetching labels:   0%|          | 0/65 [00:00<?, ?it/s]"
      ]
     },
     "metadata": {},
     "output_type": "display_data"
    },
    {
     "name": "stdout",
     "output_type": "stream",
     "text": [
      "✅ Chunk 3 saved to enriched_chunk_0003.csv\n",
      "\n",
      "--- Processing Chunk 4 (20,000 QIDs) ---\n",
      "🔍 Cache hit: 0. Missing: 20,000.\n"
     ]
    },
    {
     "data": {
      "application/vnd.jupyter.widget-view+json": {
       "model_id": "e826aaac1bbd492b99aeccfabaf9fabd",
       "version_major": 2,
       "version_minor": 0
      },
      "text/plain": [
       "Fetching from Wikidata:   0%|          | 0/400 [00:00<?, ?it/s]"
      ]
     },
     "metadata": {},
     "output_type": "display_data"
    },
    {
     "data": {
      "application/vnd.jupyter.widget-view+json": {
       "model_id": "a9179b85c1eb48a984effb8b99da758d",
       "version_major": 2,
       "version_minor": 0
      },
      "text/plain": [
       "Fetching labels:   0%|          | 0/57 [00:00<?, ?it/s]"
      ]
     },
     "metadata": {},
     "output_type": "display_data"
    },
    {
     "name": "stdout",
     "output_type": "stream",
     "text": [
      "✅ Chunk 4 saved to enriched_chunk_0004.csv\n",
      "\n",
      "--- Processing Chunk 5 (20,000 QIDs) ---\n",
      "🔍 Cache hit: 0. Missing: 20,000.\n"
     ]
    },
    {
     "data": {
      "application/vnd.jupyter.widget-view+json": {
       "model_id": "b1cbe147bb4540e6af16663c51ec32a9",
       "version_major": 2,
       "version_minor": 0
      },
      "text/plain": [
       "Fetching from Wikidata:   0%|          | 0/400 [00:00<?, ?it/s]"
      ]
     },
     "metadata": {},
     "output_type": "display_data"
    },
    {
     "data": {
      "application/vnd.jupyter.widget-view+json": {
       "model_id": "f520200ba1df4a3f8a7c250c94f96bd7",
       "version_major": 2,
       "version_minor": 0
      },
      "text/plain": [
       "Fetching labels:   0%|          | 0/50 [00:00<?, ?it/s]"
      ]
     },
     "metadata": {},
     "output_type": "display_data"
    },
    {
     "name": "stdout",
     "output_type": "stream",
     "text": [
      "✅ Chunk 5 saved to enriched_chunk_0005.csv\n",
      "\n",
      "--- Processing Chunk 6 (20,000 QIDs) ---\n",
      "🔍 Cache hit: 0. Missing: 20,000.\n"
     ]
    },
    {
     "data": {
      "application/vnd.jupyter.widget-view+json": {
       "model_id": "554dca2f19d548e79313cd3a3fce81fa",
       "version_major": 2,
       "version_minor": 0
      },
      "text/plain": [
       "Fetching from Wikidata:   0%|          | 0/400 [00:00<?, ?it/s]"
      ]
     },
     "metadata": {},
     "output_type": "display_data"
    },
    {
     "data": {
      "application/vnd.jupyter.widget-view+json": {
       "model_id": "7f2fb695575b4361be5a13e732f8a090",
       "version_major": 2,
       "version_minor": 0
      },
      "text/plain": [
       "Fetching labels:   0%|          | 0/54 [00:00<?, ?it/s]"
      ]
     },
     "metadata": {},
     "output_type": "display_data"
    },
    {
     "name": "stdout",
     "output_type": "stream",
     "text": [
      "✅ Chunk 6 saved to enriched_chunk_0006.csv\n",
      "\n",
      "--- Processing Chunk 7 (20,000 QIDs) ---\n",
      "🔍 Cache hit: 0. Missing: 20,000.\n"
     ]
    },
    {
     "data": {
      "application/vnd.jupyter.widget-view+json": {
       "model_id": "03521506a14c4000b9886cb4d4c2de8d",
       "version_major": 2,
       "version_minor": 0
      },
      "text/plain": [
       "Fetching from Wikidata:   0%|          | 0/400 [00:00<?, ?it/s]"
      ]
     },
     "metadata": {},
     "output_type": "display_data"
    },
    {
     "data": {
      "application/vnd.jupyter.widget-view+json": {
       "model_id": "dc531586247645eaa5ff36a6dd51de52",
       "version_major": 2,
       "version_minor": 0
      },
      "text/plain": [
       "Fetching labels:   0%|          | 0/48 [00:00<?, ?it/s]"
      ]
     },
     "metadata": {},
     "output_type": "display_data"
    },
    {
     "name": "stdout",
     "output_type": "stream",
     "text": [
      "✅ Chunk 7 saved to enriched_chunk_0007.csv\n",
      "\n",
      "--- Processing Chunk 8 (20,000 QIDs) ---\n",
      "🔍 Cache hit: 0. Missing: 20,000.\n"
     ]
    },
    {
     "data": {
      "application/vnd.jupyter.widget-view+json": {
       "model_id": "403149762f7e46cbacf55bc092d6bde4",
       "version_major": 2,
       "version_minor": 0
      },
      "text/plain": [
       "Fetching from Wikidata:   0%|          | 0/400 [00:00<?, ?it/s]"
      ]
     },
     "metadata": {},
     "output_type": "display_data"
    },
    {
     "data": {
      "application/vnd.jupyter.widget-view+json": {
       "model_id": "eb27148da9b54fce8a0a989bf34dfd9e",
       "version_major": 2,
       "version_minor": 0
      },
      "text/plain": [
       "Fetching labels:   0%|          | 0/43 [00:00<?, ?it/s]"
      ]
     },
     "metadata": {},
     "output_type": "display_data"
    },
    {
     "name": "stdout",
     "output_type": "stream",
     "text": [
      "✅ Chunk 8 saved to enriched_chunk_0008.csv\n",
      "\n",
      "--- Processing Chunk 9 (20,000 QIDs) ---\n",
      "🔍 Cache hit: 0. Missing: 20,000.\n"
     ]
    },
    {
     "data": {
      "application/vnd.jupyter.widget-view+json": {
       "model_id": "a02affd875a44fc79ef3ae37386bfa73",
       "version_major": 2,
       "version_minor": 0
      },
      "text/plain": [
       "Fetching from Wikidata:   0%|          | 0/400 [00:00<?, ?it/s]"
      ]
     },
     "metadata": {},
     "output_type": "display_data"
    },
    {
     "data": {
      "application/vnd.jupyter.widget-view+json": {
       "model_id": "4d5884638669461f93f0f64ab2ad2d7f",
       "version_major": 2,
       "version_minor": 0
      },
      "text/plain": [
       "Fetching labels:   0%|          | 0/39 [00:00<?, ?it/s]"
      ]
     },
     "metadata": {},
     "output_type": "display_data"
    },
    {
     "name": "stdout",
     "output_type": "stream",
     "text": [
      "✅ Chunk 9 saved to enriched_chunk_0009.csv\n",
      "\n",
      "--- Processing Chunk 10 (20,000 QIDs) ---\n",
      "🔍 Cache hit: 0. Missing: 20,000.\n"
     ]
    },
    {
     "data": {
      "application/vnd.jupyter.widget-view+json": {
       "model_id": "1690c8f17df445d49941a3da10429438",
       "version_major": 2,
       "version_minor": 0
      },
      "text/plain": [
       "Fetching from Wikidata:   0%|          | 0/400 [00:00<?, ?it/s]"
      ]
     },
     "metadata": {},
     "output_type": "display_data"
    },
    {
     "data": {
      "application/vnd.jupyter.widget-view+json": {
       "model_id": "55d2eb20db9949d5979053655c0d8ec6",
       "version_major": 2,
       "version_minor": 0
      },
      "text/plain": [
       "Fetching labels:   0%|          | 0/40 [00:00<?, ?it/s]"
      ]
     },
     "metadata": {},
     "output_type": "display_data"
    },
    {
     "name": "stdout",
     "output_type": "stream",
     "text": [
      "✅ Chunk 10 saved to enriched_chunk_0010.csv\n",
      "\n",
      "--- Processing Chunk 11 (20,000 QIDs) ---\n",
      "🔍 Cache hit: 0. Missing: 20,000.\n"
     ]
    },
    {
     "data": {
      "application/vnd.jupyter.widget-view+json": {
       "model_id": "72d61e234cf846d992e29ce9c657f747",
       "version_major": 2,
       "version_minor": 0
      },
      "text/plain": [
       "Fetching from Wikidata:   0%|          | 0/400 [00:00<?, ?it/s]"
      ]
     },
     "metadata": {},
     "output_type": "display_data"
    },
    {
     "data": {
      "application/vnd.jupyter.widget-view+json": {
       "model_id": "6f626c1ae93740fcae4b7ec692f1358c",
       "version_major": 2,
       "version_minor": 0
      },
      "text/plain": [
       "Fetching labels:   0%|          | 0/39 [00:00<?, ?it/s]"
      ]
     },
     "metadata": {},
     "output_type": "display_data"
    },
    {
     "name": "stdout",
     "output_type": "stream",
     "text": [
      "✅ Chunk 11 saved to enriched_chunk_0011.csv\n",
      "\n",
      "--- Processing Chunk 12 (20,000 QIDs) ---\n",
      "🔍 Cache hit: 0. Missing: 20,000.\n"
     ]
    },
    {
     "data": {
      "application/vnd.jupyter.widget-view+json": {
       "model_id": "c3f0df053eed40fa89fdf5e4df870309",
       "version_major": 2,
       "version_minor": 0
      },
      "text/plain": [
       "Fetching from Wikidata:   0%|          | 0/400 [00:00<?, ?it/s]"
      ]
     },
     "metadata": {},
     "output_type": "display_data"
    },
    {
     "data": {
      "application/vnd.jupyter.widget-view+json": {
       "model_id": "d6e2726f5a884caf81843e97c80b61b5",
       "version_major": 2,
       "version_minor": 0
      },
      "text/plain": [
       "Fetching labels:   0%|          | 0/37 [00:00<?, ?it/s]"
      ]
     },
     "metadata": {},
     "output_type": "display_data"
    },
    {
     "name": "stdout",
     "output_type": "stream",
     "text": [
      "✅ Chunk 12 saved to enriched_chunk_0012.csv\n",
      "\n",
      "--- Processing Chunk 13 (20,000 QIDs) ---\n",
      "🔍 Cache hit: 0. Missing: 20,000.\n"
     ]
    },
    {
     "data": {
      "application/vnd.jupyter.widget-view+json": {
       "model_id": "ea591162829b420881fcf36e3f004668",
       "version_major": 2,
       "version_minor": 0
      },
      "text/plain": [
       "Fetching from Wikidata:   0%|          | 0/400 [00:00<?, ?it/s]"
      ]
     },
     "metadata": {},
     "output_type": "display_data"
    },
    {
     "data": {
      "application/vnd.jupyter.widget-view+json": {
       "model_id": "ac7657268fda4ba98a801ac741a66272",
       "version_major": 2,
       "version_minor": 0
      },
      "text/plain": [
       "Fetching labels:   0%|          | 0/35 [00:00<?, ?it/s]"
      ]
     },
     "metadata": {},
     "output_type": "display_data"
    },
    {
     "name": "stdout",
     "output_type": "stream",
     "text": [
      "✅ Chunk 13 saved to enriched_chunk_0013.csv\n",
      "\n",
      "--- Processing Chunk 14 (20,000 QIDs) ---\n",
      "🔍 Cache hit: 0. Missing: 20,000.\n"
     ]
    },
    {
     "data": {
      "application/vnd.jupyter.widget-view+json": {
       "model_id": "6ec2281bae2d45998d1505dc8ff8b934",
       "version_major": 2,
       "version_minor": 0
      },
      "text/plain": [
       "Fetching from Wikidata:   0%|          | 0/400 [00:00<?, ?it/s]"
      ]
     },
     "metadata": {},
     "output_type": "display_data"
    },
    {
     "data": {
      "application/vnd.jupyter.widget-view+json": {
       "model_id": "4d7fffbb3e1e4957bb523b63d47656bd",
       "version_major": 2,
       "version_minor": 0
      },
      "text/plain": [
       "Fetching labels:   0%|          | 0/32 [00:00<?, ?it/s]"
      ]
     },
     "metadata": {},
     "output_type": "display_data"
    },
    {
     "name": "stdout",
     "output_type": "stream",
     "text": [
      "✅ Chunk 14 saved to enriched_chunk_0014.csv\n",
      "\n",
      "--- Processing Chunk 15 (20,000 QIDs) ---\n",
      "🔍 Cache hit: 0. Missing: 20,000.\n"
     ]
    },
    {
     "data": {
      "application/vnd.jupyter.widget-view+json": {
       "model_id": "c1f71eb3ad8648bca6564036b5650ba7",
       "version_major": 2,
       "version_minor": 0
      },
      "text/plain": [
       "Fetching from Wikidata:   0%|          | 0/400 [00:00<?, ?it/s]"
      ]
     },
     "metadata": {},
     "output_type": "display_data"
    },
    {
     "data": {
      "application/vnd.jupyter.widget-view+json": {
       "model_id": "7bbdc5632cc4492e848089a41cb0d464",
       "version_major": 2,
       "version_minor": 0
      },
      "text/plain": [
       "Fetching labels:   0%|          | 0/35 [00:00<?, ?it/s]"
      ]
     },
     "metadata": {},
     "output_type": "display_data"
    },
    {
     "name": "stdout",
     "output_type": "stream",
     "text": [
      "✅ Chunk 15 saved to enriched_chunk_0015.csv\n",
      "\n",
      "--- Processing Chunk 16 (20,000 QIDs) ---\n",
      "🔍 Cache hit: 0. Missing: 20,000.\n"
     ]
    },
    {
     "data": {
      "application/vnd.jupyter.widget-view+json": {
       "model_id": "4d1ea030bc5b4d23954d3c25993f2d99",
       "version_major": 2,
       "version_minor": 0
      },
      "text/plain": [
       "Fetching from Wikidata:   0%|          | 0/400 [00:00<?, ?it/s]"
      ]
     },
     "metadata": {},
     "output_type": "display_data"
    },
    {
     "data": {
      "application/vnd.jupyter.widget-view+json": {
       "model_id": "3127474def264590b3cb9ef8f94e9eee",
       "version_major": 2,
       "version_minor": 0
      },
      "text/plain": [
       "Fetching labels:   0%|          | 0/29 [00:00<?, ?it/s]"
      ]
     },
     "metadata": {},
     "output_type": "display_data"
    },
    {
     "name": "stdout",
     "output_type": "stream",
     "text": [
      "✅ Chunk 16 saved to enriched_chunk_0016.csv\n",
      "\n",
      "--- Processing Chunk 17 (20,000 QIDs) ---\n",
      "🔍 Cache hit: 0. Missing: 20,000.\n"
     ]
    },
    {
     "data": {
      "application/vnd.jupyter.widget-view+json": {
       "model_id": "9b535a4b261c4641ace57a90c06e1ccd",
       "version_major": 2,
       "version_minor": 0
      },
      "text/plain": [
       "Fetching from Wikidata:   0%|          | 0/400 [00:00<?, ?it/s]"
      ]
     },
     "metadata": {},
     "output_type": "display_data"
    },
    {
     "data": {
      "application/vnd.jupyter.widget-view+json": {
       "model_id": "dd651cd0f2e34c9d8b1ab89c6002e2f3",
       "version_major": 2,
       "version_minor": 0
      },
      "text/plain": [
       "Fetching labels:   0%|          | 0/27 [00:00<?, ?it/s]"
      ]
     },
     "metadata": {},
     "output_type": "display_data"
    },
    {
     "name": "stdout",
     "output_type": "stream",
     "text": [
      "✅ Chunk 17 saved to enriched_chunk_0017.csv\n",
      "\n",
      "--- Processing Chunk 18 (20,000 QIDs) ---\n",
      "🔍 Cache hit: 0. Missing: 20,000.\n"
     ]
    },
    {
     "data": {
      "application/vnd.jupyter.widget-view+json": {
       "model_id": "0a07ae14cd734c6a98c1065d9d209b74",
       "version_major": 2,
       "version_minor": 0
      },
      "text/plain": [
       "Fetching from Wikidata:   0%|          | 0/400 [00:00<?, ?it/s]"
      ]
     },
     "metadata": {},
     "output_type": "display_data"
    },
    {
     "data": {
      "application/vnd.jupyter.widget-view+json": {
       "model_id": "73896e09e30a494c81553b6b7d972523",
       "version_major": 2,
       "version_minor": 0
      },
      "text/plain": [
       "Fetching labels:   0%|          | 0/29 [00:00<?, ?it/s]"
      ]
     },
     "metadata": {},
     "output_type": "display_data"
    },
    {
     "name": "stdout",
     "output_type": "stream",
     "text": [
      "✅ Chunk 18 saved to enriched_chunk_0018.csv\n",
      "\n",
      "--- Processing Chunk 19 (20,000 QIDs) ---\n",
      "🔍 Cache hit: 0. Missing: 20,000.\n"
     ]
    },
    {
     "data": {
      "application/vnd.jupyter.widget-view+json": {
       "model_id": "f7f3991caef9441ab4dd2ad82ba5b6af",
       "version_major": 2,
       "version_minor": 0
      },
      "text/plain": [
       "Fetching from Wikidata:   0%|          | 0/400 [00:00<?, ?it/s]"
      ]
     },
     "metadata": {},
     "output_type": "display_data"
    },
    {
     "data": {
      "application/vnd.jupyter.widget-view+json": {
       "model_id": "0444b62909f84c5091afe83bb254d00b",
       "version_major": 2,
       "version_minor": 0
      },
      "text/plain": [
       "Fetching labels:   0%|          | 0/27 [00:00<?, ?it/s]"
      ]
     },
     "metadata": {},
     "output_type": "display_data"
    },
    {
     "name": "stdout",
     "output_type": "stream",
     "text": [
      "✅ Chunk 19 saved to enriched_chunk_0019.csv\n",
      "\n",
      "--- Processing Chunk 20 (20,000 QIDs) ---\n",
      "🔍 Cache hit: 0. Missing: 20,000.\n"
     ]
    },
    {
     "data": {
      "application/vnd.jupyter.widget-view+json": {
       "model_id": "4a0887830405414bb3b100dc4896185f",
       "version_major": 2,
       "version_minor": 0
      },
      "text/plain": [
       "Fetching from Wikidata:   0%|          | 0/400 [00:00<?, ?it/s]"
      ]
     },
     "metadata": {},
     "output_type": "display_data"
    },
    {
     "data": {
      "application/vnd.jupyter.widget-view+json": {
       "model_id": "a3c5f5d0020f471db9ea1bc0db8e7120",
       "version_major": 2,
       "version_minor": 0
      },
      "text/plain": [
       "Fetching labels:   0%|          | 0/26 [00:00<?, ?it/s]"
      ]
     },
     "metadata": {},
     "output_type": "display_data"
    },
    {
     "name": "stdout",
     "output_type": "stream",
     "text": [
      "✅ Chunk 20 saved to enriched_chunk_0020.csv\n",
      "\n",
      "--- Processing Chunk 21 (20,000 QIDs) ---\n",
      "🔍 Cache hit: 0. Missing: 20,000.\n"
     ]
    },
    {
     "data": {
      "application/vnd.jupyter.widget-view+json": {
       "model_id": "b2f34fe9c15243caaa124e0f325a2309",
       "version_major": 2,
       "version_minor": 0
      },
      "text/plain": [
       "Fetching from Wikidata:   0%|          | 0/400 [00:00<?, ?it/s]"
      ]
     },
     "metadata": {},
     "output_type": "display_data"
    },
    {
     "data": {
      "application/vnd.jupyter.widget-view+json": {
       "model_id": "8e2b4738ea174a1c86f63c3279cd2531",
       "version_major": 2,
       "version_minor": 0
      },
      "text/plain": [
       "Fetching labels:   0%|          | 0/26 [00:00<?, ?it/s]"
      ]
     },
     "metadata": {},
     "output_type": "display_data"
    },
    {
     "name": "stdout",
     "output_type": "stream",
     "text": [
      "✅ Chunk 21 saved to enriched_chunk_0021.csv\n",
      "\n",
      "--- Processing Chunk 22 (20,000 QIDs) ---\n",
      "🔍 Cache hit: 0. Missing: 20,000.\n"
     ]
    },
    {
     "data": {
      "application/vnd.jupyter.widget-view+json": {
       "model_id": "fcf664800a9748d698f7cc0bb9b03e90",
       "version_major": 2,
       "version_minor": 0
      },
      "text/plain": [
       "Fetching from Wikidata:   0%|          | 0/400 [00:00<?, ?it/s]"
      ]
     },
     "metadata": {},
     "output_type": "display_data"
    },
    {
     "data": {
      "application/vnd.jupyter.widget-view+json": {
       "model_id": "a39a938362274b86bafec25d5b98363e",
       "version_major": 2,
       "version_minor": 0
      },
      "text/plain": [
       "Fetching labels:   0%|          | 0/26 [00:00<?, ?it/s]"
      ]
     },
     "metadata": {},
     "output_type": "display_data"
    },
    {
     "name": "stdout",
     "output_type": "stream",
     "text": [
      "✅ Chunk 22 saved to enriched_chunk_0022.csv\n",
      "\n",
      "--- Processing Chunk 23 (20,000 QIDs) ---\n",
      "🔍 Cache hit: 0. Missing: 20,000.\n"
     ]
    },
    {
     "data": {
      "application/vnd.jupyter.widget-view+json": {
       "model_id": "075df850e6d64c62bf916dd3301b8f9d",
       "version_major": 2,
       "version_minor": 0
      },
      "text/plain": [
       "Fetching from Wikidata:   0%|          | 0/400 [00:00<?, ?it/s]"
      ]
     },
     "metadata": {},
     "output_type": "display_data"
    },
    {
     "data": {
      "application/vnd.jupyter.widget-view+json": {
       "model_id": "1292d6aa2dc140508b03b8c831569c98",
       "version_major": 2,
       "version_minor": 0
      },
      "text/plain": [
       "Fetching labels:   0%|          | 0/25 [00:00<?, ?it/s]"
      ]
     },
     "metadata": {},
     "output_type": "display_data"
    },
    {
     "name": "stdout",
     "output_type": "stream",
     "text": [
      "✅ Chunk 23 saved to enriched_chunk_0023.csv\n",
      "\n",
      "--- Processing Chunk 24 (20,000 QIDs) ---\n",
      "🔍 Cache hit: 0. Missing: 20,000.\n"
     ]
    },
    {
     "data": {
      "application/vnd.jupyter.widget-view+json": {
       "model_id": "052c083ab8a14f6e8a46b31e47069f9a",
       "version_major": 2,
       "version_minor": 0
      },
      "text/plain": [
       "Fetching from Wikidata:   0%|          | 0/400 [00:00<?, ?it/s]"
      ]
     },
     "metadata": {},
     "output_type": "display_data"
    },
    {
     "data": {
      "application/vnd.jupyter.widget-view+json": {
       "model_id": "a3e013ea01fd4ee08d4ee47156e20819",
       "version_major": 2,
       "version_minor": 0
      },
      "text/plain": [
       "Fetching labels:   0%|          | 0/24 [00:00<?, ?it/s]"
      ]
     },
     "metadata": {},
     "output_type": "display_data"
    },
    {
     "name": "stdout",
     "output_type": "stream",
     "text": [
      "✅ Chunk 24 saved to enriched_chunk_0024.csv\n",
      "\n",
      "--- Processing Chunk 25 (20,000 QIDs) ---\n",
      "🔍 Cache hit: 0. Missing: 20,000.\n"
     ]
    },
    {
     "data": {
      "application/vnd.jupyter.widget-view+json": {
       "model_id": "ba7c425980fe46dcb5f967183a389fe5",
       "version_major": 2,
       "version_minor": 0
      },
      "text/plain": [
       "Fetching from Wikidata:   0%|          | 0/400 [00:00<?, ?it/s]"
      ]
     },
     "metadata": {},
     "output_type": "display_data"
    },
    {
     "data": {
      "application/vnd.jupyter.widget-view+json": {
       "model_id": "3f2226ac04a84b7dbc305d80a2124a5b",
       "version_major": 2,
       "version_minor": 0
      },
      "text/plain": [
       "Fetching labels:   0%|          | 0/25 [00:00<?, ?it/s]"
      ]
     },
     "metadata": {},
     "output_type": "display_data"
    },
    {
     "name": "stdout",
     "output_type": "stream",
     "text": [
      "✅ Chunk 25 saved to enriched_chunk_0025.csv\n",
      "\n",
      "--- Processing Chunk 26 (20,000 QIDs) ---\n",
      "🔍 Cache hit: 0. Missing: 20,000.\n"
     ]
    },
    {
     "data": {
      "application/vnd.jupyter.widget-view+json": {
       "model_id": "ac17722cc7d54180ac96e4b938a9ecb1",
       "version_major": 2,
       "version_minor": 0
      },
      "text/plain": [
       "Fetching from Wikidata:   0%|          | 0/400 [00:00<?, ?it/s]"
      ]
     },
     "metadata": {},
     "output_type": "display_data"
    },
    {
     "data": {
      "application/vnd.jupyter.widget-view+json": {
       "model_id": "43b57cc1dff1410fae5a062632664520",
       "version_major": 2,
       "version_minor": 0
      },
      "text/plain": [
       "Fetching labels:   0%|          | 0/23 [00:00<?, ?it/s]"
      ]
     },
     "metadata": {},
     "output_type": "display_data"
    },
    {
     "name": "stdout",
     "output_type": "stream",
     "text": [
      "✅ Chunk 26 saved to enriched_chunk_0026.csv\n",
      "\n",
      "--- Processing Chunk 27 (20,000 QIDs) ---\n",
      "🔍 Cache hit: 0. Missing: 20,000.\n"
     ]
    },
    {
     "data": {
      "application/vnd.jupyter.widget-view+json": {
       "model_id": "eb7d4117f84a453387bffec1a17dfb61",
       "version_major": 2,
       "version_minor": 0
      },
      "text/plain": [
       "Fetching from Wikidata:   0%|          | 0/400 [00:00<?, ?it/s]"
      ]
     },
     "metadata": {},
     "output_type": "display_data"
    },
    {
     "data": {
      "application/vnd.jupyter.widget-view+json": {
       "model_id": "2a2419a0f1484e3e9c172921d1f56078",
       "version_major": 2,
       "version_minor": 0
      },
      "text/plain": [
       "Fetching labels:   0%|          | 0/25 [00:00<?, ?it/s]"
      ]
     },
     "metadata": {},
     "output_type": "display_data"
    },
    {
     "name": "stdout",
     "output_type": "stream",
     "text": [
      "✅ Chunk 27 saved to enriched_chunk_0027.csv\n",
      "\n",
      "--- Processing Chunk 28 (20,000 QIDs) ---\n",
      "🔍 Cache hit: 0. Missing: 20,000.\n"
     ]
    },
    {
     "data": {
      "application/vnd.jupyter.widget-view+json": {
       "model_id": "273f1ef4a563493fa5022bb602228e05",
       "version_major": 2,
       "version_minor": 0
      },
      "text/plain": [
       "Fetching from Wikidata:   0%|          | 0/400 [00:00<?, ?it/s]"
      ]
     },
     "metadata": {},
     "output_type": "display_data"
    },
    {
     "data": {
      "application/vnd.jupyter.widget-view+json": {
       "model_id": "d224d9e082544ebca062fe2340c115e6",
       "version_major": 2,
       "version_minor": 0
      },
      "text/plain": [
       "Fetching labels:   0%|          | 0/27 [00:00<?, ?it/s]"
      ]
     },
     "metadata": {},
     "output_type": "display_data"
    },
    {
     "name": "stdout",
     "output_type": "stream",
     "text": [
      "✅ Chunk 28 saved to enriched_chunk_0028.csv\n",
      "\n",
      "--- Processing Chunk 29 (20,000 QIDs) ---\n",
      "🔍 Cache hit: 0. Missing: 20,000.\n"
     ]
    },
    {
     "data": {
      "application/vnd.jupyter.widget-view+json": {
       "model_id": "af769d8c9a3c49fa81fded53e837d627",
       "version_major": 2,
       "version_minor": 0
      },
      "text/plain": [
       "Fetching from Wikidata:   0%|          | 0/400 [00:00<?, ?it/s]"
      ]
     },
     "metadata": {},
     "output_type": "display_data"
    },
    {
     "data": {
      "application/vnd.jupyter.widget-view+json": {
       "model_id": "94c6fa21933f4edc8a2346c5bc559e54",
       "version_major": 2,
       "version_minor": 0
      },
      "text/plain": [
       "Fetching labels:   0%|          | 0/25 [00:00<?, ?it/s]"
      ]
     },
     "metadata": {},
     "output_type": "display_data"
    },
    {
     "name": "stdout",
     "output_type": "stream",
     "text": [
      "✅ Chunk 29 saved to enriched_chunk_0029.csv\n",
      "\n",
      "--- Processing Chunk 30 (20,000 QIDs) ---\n",
      "🔍 Cache hit: 0. Missing: 20,000.\n"
     ]
    },
    {
     "data": {
      "application/vnd.jupyter.widget-view+json": {
       "model_id": "6214a8638369439993ed8746c98684fb",
       "version_major": 2,
       "version_minor": 0
      },
      "text/plain": [
       "Fetching from Wikidata:   0%|          | 0/400 [00:00<?, ?it/s]"
      ]
     },
     "metadata": {},
     "output_type": "display_data"
    },
    {
     "data": {
      "application/vnd.jupyter.widget-view+json": {
       "model_id": "5e21d75c5c8e4d2f897be2a25ce771e1",
       "version_major": 2,
       "version_minor": 0
      },
      "text/plain": [
       "Fetching labels:   0%|          | 0/24 [00:00<?, ?it/s]"
      ]
     },
     "metadata": {},
     "output_type": "display_data"
    },
    {
     "name": "stdout",
     "output_type": "stream",
     "text": [
      "✅ Chunk 30 saved to enriched_chunk_0030.csv\n",
      "\n",
      "--- Processing Chunk 31 (20,000 QIDs) ---\n",
      "🔍 Cache hit: 0. Missing: 20,000.\n"
     ]
    },
    {
     "data": {
      "application/vnd.jupyter.widget-view+json": {
       "model_id": "c6c59fa58bf342d583bfdbdecb6ab7bb",
       "version_major": 2,
       "version_minor": 0
      },
      "text/plain": [
       "Fetching from Wikidata:   0%|          | 0/400 [00:00<?, ?it/s]"
      ]
     },
     "metadata": {},
     "output_type": "display_data"
    },
    {
     "data": {
      "application/vnd.jupyter.widget-view+json": {
       "model_id": "0be258dc58d7400ab0295c49c2dc6c1c",
       "version_major": 2,
       "version_minor": 0
      },
      "text/plain": [
       "Fetching labels:   0%|          | 0/24 [00:00<?, ?it/s]"
      ]
     },
     "metadata": {},
     "output_type": "display_data"
    },
    {
     "name": "stdout",
     "output_type": "stream",
     "text": [
      "✅ Chunk 31 saved to enriched_chunk_0031.csv\n",
      "\n",
      "--- Processing Chunk 32 (20,000 QIDs) ---\n",
      "🔍 Cache hit: 0. Missing: 20,000.\n"
     ]
    },
    {
     "data": {
      "application/vnd.jupyter.widget-view+json": {
       "model_id": "f81f68a2f24444cc8da19fa97df3fa86",
       "version_major": 2,
       "version_minor": 0
      },
      "text/plain": [
       "Fetching from Wikidata:   0%|          | 0/400 [00:00<?, ?it/s]"
      ]
     },
     "metadata": {},
     "output_type": "display_data"
    },
    {
     "data": {
      "application/vnd.jupyter.widget-view+json": {
       "model_id": "49e93fa567bc41cbbb759900686106e6",
       "version_major": 2,
       "version_minor": 0
      },
      "text/plain": [
       "Fetching labels:   0%|          | 0/20 [00:00<?, ?it/s]"
      ]
     },
     "metadata": {},
     "output_type": "display_data"
    },
    {
     "name": "stdout",
     "output_type": "stream",
     "text": [
      "✅ Chunk 32 saved to enriched_chunk_0032.csv\n",
      "\n",
      "--- Processing Chunk 33 (20,000 QIDs) ---\n",
      "🔍 Cache hit: 0. Missing: 20,000.\n"
     ]
    },
    {
     "data": {
      "application/vnd.jupyter.widget-view+json": {
       "model_id": "39580c658e3946a3a0d7a27bbdc5f34f",
       "version_major": 2,
       "version_minor": 0
      },
      "text/plain": [
       "Fetching from Wikidata:   0%|          | 0/400 [00:00<?, ?it/s]"
      ]
     },
     "metadata": {},
     "output_type": "display_data"
    },
    {
     "data": {
      "application/vnd.jupyter.widget-view+json": {
       "model_id": "a9f7c91f67a642d7b2118b0061b7028e",
       "version_major": 2,
       "version_minor": 0
      },
      "text/plain": [
       "Fetching labels:   0%|          | 0/22 [00:00<?, ?it/s]"
      ]
     },
     "metadata": {},
     "output_type": "display_data"
    },
    {
     "name": "stdout",
     "output_type": "stream",
     "text": [
      "✅ Chunk 33 saved to enriched_chunk_0033.csv\n",
      "\n",
      "--- Processing Chunk 34 (20,000 QIDs) ---\n",
      "🔍 Cache hit: 0. Missing: 20,000.\n"
     ]
    },
    {
     "data": {
      "application/vnd.jupyter.widget-view+json": {
       "model_id": "8ab51d2126c04092ba8e8b3930e80755",
       "version_major": 2,
       "version_minor": 0
      },
      "text/plain": [
       "Fetching from Wikidata:   0%|          | 0/400 [00:00<?, ?it/s]"
      ]
     },
     "metadata": {},
     "output_type": "display_data"
    },
    {
     "data": {
      "application/vnd.jupyter.widget-view+json": {
       "model_id": "8de5a178b652404fa8ff35cfb824f368",
       "version_major": 2,
       "version_minor": 0
      },
      "text/plain": [
       "Fetching labels:   0%|          | 0/22 [00:00<?, ?it/s]"
      ]
     },
     "metadata": {},
     "output_type": "display_data"
    },
    {
     "name": "stdout",
     "output_type": "stream",
     "text": [
      "✅ Chunk 34 saved to enriched_chunk_0034.csv\n",
      "\n",
      "--- Processing Chunk 35 (20,000 QIDs) ---\n",
      "🔍 Cache hit: 0. Missing: 20,000.\n"
     ]
    },
    {
     "data": {
      "application/vnd.jupyter.widget-view+json": {
       "model_id": "d56d56dae57a40499fee5d59b1ae1643",
       "version_major": 2,
       "version_minor": 0
      },
      "text/plain": [
       "Fetching from Wikidata:   0%|          | 0/400 [00:00<?, ?it/s]"
      ]
     },
     "metadata": {},
     "output_type": "display_data"
    },
    {
     "data": {
      "application/vnd.jupyter.widget-view+json": {
       "model_id": "78e2993312b848c291933483ef0ee90d",
       "version_major": 2,
       "version_minor": 0
      },
      "text/plain": [
       "Fetching labels:   0%|          | 0/19 [00:00<?, ?it/s]"
      ]
     },
     "metadata": {},
     "output_type": "display_data"
    },
    {
     "name": "stdout",
     "output_type": "stream",
     "text": [
      "✅ Chunk 35 saved to enriched_chunk_0035.csv\n",
      "\n",
      "--- Processing Chunk 36 (20,000 QIDs) ---\n",
      "🔍 Cache hit: 0. Missing: 20,000.\n"
     ]
    },
    {
     "data": {
      "application/vnd.jupyter.widget-view+json": {
       "model_id": "1f936c9eb3364a34aa240b05de626d2a",
       "version_major": 2,
       "version_minor": 0
      },
      "text/plain": [
       "Fetching from Wikidata:   0%|          | 0/400 [00:00<?, ?it/s]"
      ]
     },
     "metadata": {},
     "output_type": "display_data"
    },
    {
     "data": {
      "application/vnd.jupyter.widget-view+json": {
       "model_id": "88e4e334a9204c18bd52791ce522dfda",
       "version_major": 2,
       "version_minor": 0
      },
      "text/plain": [
       "Fetching labels:   0%|          | 0/19 [00:00<?, ?it/s]"
      ]
     },
     "metadata": {},
     "output_type": "display_data"
    },
    {
     "name": "stdout",
     "output_type": "stream",
     "text": [
      "✅ Chunk 36 saved to enriched_chunk_0036.csv\n",
      "\n",
      "--- Processing Chunk 37 (20,000 QIDs) ---\n",
      "🔍 Cache hit: 0. Missing: 20,000.\n"
     ]
    },
    {
     "data": {
      "application/vnd.jupyter.widget-view+json": {
       "model_id": "8c66050b07ab4d9491ea09ef8be9fcf2",
       "version_major": 2,
       "version_minor": 0
      },
      "text/plain": [
       "Fetching from Wikidata:   0%|          | 0/400 [00:00<?, ?it/s]"
      ]
     },
     "metadata": {},
     "output_type": "display_data"
    },
    {
     "data": {
      "application/vnd.jupyter.widget-view+json": {
       "model_id": "b00792b468c44a3597910d35c34c2edd",
       "version_major": 2,
       "version_minor": 0
      },
      "text/plain": [
       "Fetching labels:   0%|          | 0/22 [00:00<?, ?it/s]"
      ]
     },
     "metadata": {},
     "output_type": "display_data"
    },
    {
     "name": "stdout",
     "output_type": "stream",
     "text": [
      "✅ Chunk 37 saved to enriched_chunk_0037.csv\n",
      "\n",
      "--- Processing Chunk 38 (20,000 QIDs) ---\n",
      "🔍 Cache hit: 0. Missing: 20,000.\n"
     ]
    },
    {
     "data": {
      "application/vnd.jupyter.widget-view+json": {
       "model_id": "cb04f7c8eb5445a5ab9ad36c717ec377",
       "version_major": 2,
       "version_minor": 0
      },
      "text/plain": [
       "Fetching from Wikidata:   0%|          | 0/400 [00:00<?, ?it/s]"
      ]
     },
     "metadata": {},
     "output_type": "display_data"
    },
    {
     "data": {
      "application/vnd.jupyter.widget-view+json": {
       "model_id": "df4a56436aa74655ab8e04ca1e43b217",
       "version_major": 2,
       "version_minor": 0
      },
      "text/plain": [
       "Fetching labels:   0%|          | 0/21 [00:00<?, ?it/s]"
      ]
     },
     "metadata": {},
     "output_type": "display_data"
    },
    {
     "name": "stdout",
     "output_type": "stream",
     "text": [
      "✅ Chunk 38 saved to enriched_chunk_0038.csv\n",
      "\n",
      "--- Processing Chunk 39 (20,000 QIDs) ---\n",
      "🔍 Cache hit: 0. Missing: 20,000.\n"
     ]
    },
    {
     "data": {
      "application/vnd.jupyter.widget-view+json": {
       "model_id": "e89f9804a0b8408e92be8ee6a75baba8",
       "version_major": 2,
       "version_minor": 0
      },
      "text/plain": [
       "Fetching from Wikidata:   0%|          | 0/400 [00:00<?, ?it/s]"
      ]
     },
     "metadata": {},
     "output_type": "display_data"
    },
    {
     "data": {
      "application/vnd.jupyter.widget-view+json": {
       "model_id": "3b322428ebbd4ec8aa21fe9323d75cc3",
       "version_major": 2,
       "version_minor": 0
      },
      "text/plain": [
       "Fetching labels:   0%|          | 0/20 [00:00<?, ?it/s]"
      ]
     },
     "metadata": {},
     "output_type": "display_data"
    },
    {
     "name": "stdout",
     "output_type": "stream",
     "text": [
      "✅ Chunk 39 saved to enriched_chunk_0039.csv\n",
      "\n",
      "--- Processing Chunk 40 (20,000 QIDs) ---\n",
      "🔍 Cache hit: 0. Missing: 20,000.\n"
     ]
    },
    {
     "data": {
      "application/vnd.jupyter.widget-view+json": {
       "model_id": "db6d2e38969745b6b1a6b8221387c711",
       "version_major": 2,
       "version_minor": 0
      },
      "text/plain": [
       "Fetching from Wikidata:   0%|          | 0/400 [00:00<?, ?it/s]"
      ]
     },
     "metadata": {},
     "output_type": "display_data"
    },
    {
     "data": {
      "application/vnd.jupyter.widget-view+json": {
       "model_id": "5adf013701924fa687b69e8355ac5061",
       "version_major": 2,
       "version_minor": 0
      },
      "text/plain": [
       "Fetching labels:   0%|          | 0/21 [00:00<?, ?it/s]"
      ]
     },
     "metadata": {},
     "output_type": "display_data"
    },
    {
     "name": "stdout",
     "output_type": "stream",
     "text": [
      "✅ Chunk 40 saved to enriched_chunk_0040.csv\n",
      "\n",
      "--- Processing Chunk 41 (20,000 QIDs) ---\n",
      "🔍 Cache hit: 0. Missing: 20,000.\n"
     ]
    },
    {
     "data": {
      "application/vnd.jupyter.widget-view+json": {
       "model_id": "c7a7abcac8714b4e841caabd42b4d97c",
       "version_major": 2,
       "version_minor": 0
      },
      "text/plain": [
       "Fetching from Wikidata:   0%|          | 0/400 [00:00<?, ?it/s]"
      ]
     },
     "metadata": {},
     "output_type": "display_data"
    },
    {
     "data": {
      "application/vnd.jupyter.widget-view+json": {
       "model_id": "eda3082ab2cd42289efe4e8587bd3e08",
       "version_major": 2,
       "version_minor": 0
      },
      "text/plain": [
       "Fetching labels:   0%|          | 0/21 [00:00<?, ?it/s]"
      ]
     },
     "metadata": {},
     "output_type": "display_data"
    },
    {
     "name": "stdout",
     "output_type": "stream",
     "text": [
      "✅ Chunk 41 saved to enriched_chunk_0041.csv\n",
      "\n",
      "--- Processing Chunk 42 (20,000 QIDs) ---\n",
      "🔍 Cache hit: 0. Missing: 20,000.\n"
     ]
    },
    {
     "data": {
      "application/vnd.jupyter.widget-view+json": {
       "model_id": "ffc9ef19fb514b8282c995729675ee52",
       "version_major": 2,
       "version_minor": 0
      },
      "text/plain": [
       "Fetching from Wikidata:   0%|          | 0/400 [00:00<?, ?it/s]"
      ]
     },
     "metadata": {},
     "output_type": "display_data"
    },
    {
     "data": {
      "application/vnd.jupyter.widget-view+json": {
       "model_id": "b27f959782444e67a85c45519b1ffe69",
       "version_major": 2,
       "version_minor": 0
      },
      "text/plain": [
       "Fetching labels:   0%|          | 0/21 [00:00<?, ?it/s]"
      ]
     },
     "metadata": {},
     "output_type": "display_data"
    },
    {
     "name": "stdout",
     "output_type": "stream",
     "text": [
      "✅ Chunk 42 saved to enriched_chunk_0042.csv\n",
      "\n",
      "--- Processing Chunk 43 (20,000 QIDs) ---\n",
      "🔍 Cache hit: 0. Missing: 20,000.\n"
     ]
    },
    {
     "data": {
      "application/vnd.jupyter.widget-view+json": {
       "model_id": "4e3d7264625642038c8e4152e7522a82",
       "version_major": 2,
       "version_minor": 0
      },
      "text/plain": [
       "Fetching from Wikidata:   0%|          | 0/400 [00:00<?, ?it/s]"
      ]
     },
     "metadata": {},
     "output_type": "display_data"
    },
    {
     "data": {
      "application/vnd.jupyter.widget-view+json": {
       "model_id": "30c8289fc5e948d990faafacae2c0fc6",
       "version_major": 2,
       "version_minor": 0
      },
      "text/plain": [
       "Fetching labels:   0%|          | 0/18 [00:00<?, ?it/s]"
      ]
     },
     "metadata": {},
     "output_type": "display_data"
    },
    {
     "name": "stdout",
     "output_type": "stream",
     "text": [
      "✅ Chunk 43 saved to enriched_chunk_0043.csv\n",
      "\n",
      "--- Processing Chunk 44 (20,000 QIDs) ---\n",
      "🔍 Cache hit: 0. Missing: 20,000.\n"
     ]
    },
    {
     "data": {
      "application/vnd.jupyter.widget-view+json": {
       "model_id": "e3392e1dc6ba4b0ea1fe7086e87defaf",
       "version_major": 2,
       "version_minor": 0
      },
      "text/plain": [
       "Fetching from Wikidata:   0%|          | 0/400 [00:00<?, ?it/s]"
      ]
     },
     "metadata": {},
     "output_type": "display_data"
    },
    {
     "data": {
      "application/vnd.jupyter.widget-view+json": {
       "model_id": "b0afa7b48d8246d98acba0a9da0ea949",
       "version_major": 2,
       "version_minor": 0
      },
      "text/plain": [
       "Fetching labels:   0%|          | 0/19 [00:00<?, ?it/s]"
      ]
     },
     "metadata": {},
     "output_type": "display_data"
    },
    {
     "name": "stdout",
     "output_type": "stream",
     "text": [
      "✅ Chunk 44 saved to enriched_chunk_0044.csv\n",
      "\n",
      "--- Processing Chunk 45 (20,000 QIDs) ---\n",
      "🔍 Cache hit: 0. Missing: 20,000.\n"
     ]
    },
    {
     "data": {
      "application/vnd.jupyter.widget-view+json": {
       "model_id": "482d4a9a317148c0bf50efc792f42f49",
       "version_major": 2,
       "version_minor": 0
      },
      "text/plain": [
       "Fetching from Wikidata:   0%|          | 0/400 [00:00<?, ?it/s]"
      ]
     },
     "metadata": {},
     "output_type": "display_data"
    },
    {
     "data": {
      "application/vnd.jupyter.widget-view+json": {
       "model_id": "659a5a28a27c45b1b2e8e2598b72d238",
       "version_major": 2,
       "version_minor": 0
      },
      "text/plain": [
       "Fetching labels:   0%|          | 0/18 [00:00<?, ?it/s]"
      ]
     },
     "metadata": {},
     "output_type": "display_data"
    },
    {
     "name": "stdout",
     "output_type": "stream",
     "text": [
      "✅ Chunk 45 saved to enriched_chunk_0045.csv\n",
      "\n",
      "--- Processing Chunk 46 (20,000 QIDs) ---\n",
      "🔍 Cache hit: 0. Missing: 20,000.\n"
     ]
    },
    {
     "data": {
      "application/vnd.jupyter.widget-view+json": {
       "model_id": "85be4b43eb174f7da3d5ee10f3b51d01",
       "version_major": 2,
       "version_minor": 0
      },
      "text/plain": [
       "Fetching from Wikidata:   0%|          | 0/400 [00:00<?, ?it/s]"
      ]
     },
     "metadata": {},
     "output_type": "display_data"
    },
    {
     "data": {
      "application/vnd.jupyter.widget-view+json": {
       "model_id": "70820607306a46a3a52ba25e4d02870b",
       "version_major": 2,
       "version_minor": 0
      },
      "text/plain": [
       "Fetching labels:   0%|          | 0/20 [00:00<?, ?it/s]"
      ]
     },
     "metadata": {},
     "output_type": "display_data"
    },
    {
     "name": "stdout",
     "output_type": "stream",
     "text": [
      "✅ Chunk 46 saved to enriched_chunk_0046.csv\n",
      "\n",
      "--- Processing Chunk 47 (20,000 QIDs) ---\n",
      "🔍 Cache hit: 0. Missing: 20,000.\n"
     ]
    },
    {
     "data": {
      "application/vnd.jupyter.widget-view+json": {
       "model_id": "31fa5ac5263d4fb2845721a0027a2eb0",
       "version_major": 2,
       "version_minor": 0
      },
      "text/plain": [
       "Fetching from Wikidata:   0%|          | 0/400 [00:00<?, ?it/s]"
      ]
     },
     "metadata": {},
     "output_type": "display_data"
    },
    {
     "data": {
      "application/vnd.jupyter.widget-view+json": {
       "model_id": "89318f8bfadb486a934b7746a02c9920",
       "version_major": 2,
       "version_minor": 0
      },
      "text/plain": [
       "Fetching labels:   0%|          | 0/19 [00:00<?, ?it/s]"
      ]
     },
     "metadata": {},
     "output_type": "display_data"
    },
    {
     "name": "stdout",
     "output_type": "stream",
     "text": [
      "✅ Chunk 47 saved to enriched_chunk_0047.csv\n",
      "\n",
      "--- Processing Chunk 48 (20,000 QIDs) ---\n",
      "🔍 Cache hit: 0. Missing: 20,000.\n"
     ]
    },
    {
     "data": {
      "application/vnd.jupyter.widget-view+json": {
       "model_id": "9e42370466af44c4a7dc04afe0a8d04a",
       "version_major": 2,
       "version_minor": 0
      },
      "text/plain": [
       "Fetching from Wikidata:   0%|          | 0/400 [00:00<?, ?it/s]"
      ]
     },
     "metadata": {},
     "output_type": "display_data"
    },
    {
     "data": {
      "application/vnd.jupyter.widget-view+json": {
       "model_id": "c77271be2e7f47c6944eb145a4d275eb",
       "version_major": 2,
       "version_minor": 0
      },
      "text/plain": [
       "Fetching labels:   0%|          | 0/17 [00:00<?, ?it/s]"
      ]
     },
     "metadata": {},
     "output_type": "display_data"
    },
    {
     "name": "stdout",
     "output_type": "stream",
     "text": [
      "✅ Chunk 48 saved to enriched_chunk_0048.csv\n",
      "\n",
      "--- Processing Chunk 49 (20,000 QIDs) ---\n",
      "🔍 Cache hit: 0. Missing: 20,000.\n"
     ]
    },
    {
     "data": {
      "application/vnd.jupyter.widget-view+json": {
       "model_id": "a289ec9273b845e3add83aa135d85e09",
       "version_major": 2,
       "version_minor": 0
      },
      "text/plain": [
       "Fetching from Wikidata:   0%|          | 0/400 [00:00<?, ?it/s]"
      ]
     },
     "metadata": {},
     "output_type": "display_data"
    },
    {
     "data": {
      "application/vnd.jupyter.widget-view+json": {
       "model_id": "1b63e7fd1bfc4296bf109af950da5280",
       "version_major": 2,
       "version_minor": 0
      },
      "text/plain": [
       "Fetching labels:   0%|          | 0/17 [00:00<?, ?it/s]"
      ]
     },
     "metadata": {},
     "output_type": "display_data"
    },
    {
     "name": "stdout",
     "output_type": "stream",
     "text": [
      "✅ Chunk 49 saved to enriched_chunk_0049.csv\n",
      "\n",
      "--- Processing Chunk 50 (20,000 QIDs) ---\n",
      "🔍 Cache hit: 0. Missing: 20,000.\n"
     ]
    },
    {
     "data": {
      "application/vnd.jupyter.widget-view+json": {
       "model_id": "c4e46e9d87524a8fba05cbdf9d956ba6",
       "version_major": 2,
       "version_minor": 0
      },
      "text/plain": [
       "Fetching from Wikidata:   0%|          | 0/400 [00:00<?, ?it/s]"
      ]
     },
     "metadata": {},
     "output_type": "display_data"
    },
    {
     "data": {
      "application/vnd.jupyter.widget-view+json": {
       "model_id": "b0fddee5441c4634afdf6f690d585dd1",
       "version_major": 2,
       "version_minor": 0
      },
      "text/plain": [
       "Fetching labels:   0%|          | 0/17 [00:00<?, ?it/s]"
      ]
     },
     "metadata": {},
     "output_type": "display_data"
    },
    {
     "name": "stdout",
     "output_type": "stream",
     "text": [
      "✅ Chunk 50 saved to enriched_chunk_0050.csv\n",
      "\n",
      "--- Processing Chunk 51 (20,000 QIDs) ---\n",
      "🔍 Cache hit: 0. Missing: 20,000.\n"
     ]
    },
    {
     "data": {
      "application/vnd.jupyter.widget-view+json": {
       "model_id": "1c47664e3f904c7c887c719737c9c7c4",
       "version_major": 2,
       "version_minor": 0
      },
      "text/plain": [
       "Fetching from Wikidata:   0%|          | 0/400 [00:00<?, ?it/s]"
      ]
     },
     "metadata": {},
     "output_type": "display_data"
    },
    {
     "data": {
      "application/vnd.jupyter.widget-view+json": {
       "model_id": "c29042431c5f4145ae4a49631d5dc603",
       "version_major": 2,
       "version_minor": 0
      },
      "text/plain": [
       "Fetching labels:   0%|          | 0/15 [00:00<?, ?it/s]"
      ]
     },
     "metadata": {},
     "output_type": "display_data"
    },
    {
     "name": "stdout",
     "output_type": "stream",
     "text": [
      "✅ Chunk 51 saved to enriched_chunk_0051.csv\n",
      "\n",
      "--- Processing Chunk 52 (20,000 QIDs) ---\n",
      "🔍 Cache hit: 0. Missing: 20,000.\n"
     ]
    },
    {
     "data": {
      "application/vnd.jupyter.widget-view+json": {
       "model_id": "2fd3f1c0ff21471aa72740c7ff6a573b",
       "version_major": 2,
       "version_minor": 0
      },
      "text/plain": [
       "Fetching from Wikidata:   0%|          | 0/400 [00:00<?, ?it/s]"
      ]
     },
     "metadata": {},
     "output_type": "display_data"
    },
    {
     "data": {
      "application/vnd.jupyter.widget-view+json": {
       "model_id": "b24b972984ee435b8f1ce8ae5569acb6",
       "version_major": 2,
       "version_minor": 0
      },
      "text/plain": [
       "Fetching labels:   0%|          | 0/13 [00:00<?, ?it/s]"
      ]
     },
     "metadata": {},
     "output_type": "display_data"
    },
    {
     "name": "stdout",
     "output_type": "stream",
     "text": [
      "✅ Chunk 52 saved to enriched_chunk_0052.csv\n",
      "\n",
      "--- Processing Chunk 53 (20,000 QIDs) ---\n",
      "🔍 Cache hit: 0. Missing: 20,000.\n"
     ]
    },
    {
     "data": {
      "application/vnd.jupyter.widget-view+json": {
       "model_id": "9b6249288f874e6781c8d9776528a054",
       "version_major": 2,
       "version_minor": 0
      },
      "text/plain": [
       "Fetching from Wikidata:   0%|          | 0/400 [00:00<?, ?it/s]"
      ]
     },
     "metadata": {},
     "output_type": "display_data"
    },
    {
     "data": {
      "application/vnd.jupyter.widget-view+json": {
       "model_id": "3deef275aae14b3582449eb884b82be4",
       "version_major": 2,
       "version_minor": 0
      },
      "text/plain": [
       "Fetching labels:   0%|          | 0/13 [00:00<?, ?it/s]"
      ]
     },
     "metadata": {},
     "output_type": "display_data"
    },
    {
     "name": "stdout",
     "output_type": "stream",
     "text": [
      "✅ Chunk 53 saved to enriched_chunk_0053.csv\n",
      "\n",
      "--- Processing Chunk 54 (20,000 QIDs) ---\n",
      "🔍 Cache hit: 0. Missing: 20,000.\n"
     ]
    },
    {
     "data": {
      "application/vnd.jupyter.widget-view+json": {
       "model_id": "328efd8a14de4c379662be00499f2a51",
       "version_major": 2,
       "version_minor": 0
      },
      "text/plain": [
       "Fetching from Wikidata:   0%|          | 0/400 [00:00<?, ?it/s]"
      ]
     },
     "metadata": {},
     "output_type": "display_data"
    },
    {
     "data": {
      "application/vnd.jupyter.widget-view+json": {
       "model_id": "94144214982a44e490f8ffccf36d71fe",
       "version_major": 2,
       "version_minor": 0
      },
      "text/plain": [
       "Fetching labels:   0%|          | 0/12 [00:00<?, ?it/s]"
      ]
     },
     "metadata": {},
     "output_type": "display_data"
    },
    {
     "name": "stdout",
     "output_type": "stream",
     "text": [
      "✅ Chunk 54 saved to enriched_chunk_0054.csv\n",
      "\n",
      "--- Processing Chunk 55 (20,000 QIDs) ---\n",
      "🔍 Cache hit: 0. Missing: 20,000.\n"
     ]
    },
    {
     "data": {
      "application/vnd.jupyter.widget-view+json": {
       "model_id": "aef6907f2e9a4a25a2466a39991f7272",
       "version_major": 2,
       "version_minor": 0
      },
      "text/plain": [
       "Fetching from Wikidata:   0%|          | 0/400 [00:00<?, ?it/s]"
      ]
     },
     "metadata": {},
     "output_type": "display_data"
    },
    {
     "data": {
      "application/vnd.jupyter.widget-view+json": {
       "model_id": "86e3587c8dd54817a130bb0e0db04148",
       "version_major": 2,
       "version_minor": 0
      },
      "text/plain": [
       "Fetching labels:   0%|          | 0/12 [00:00<?, ?it/s]"
      ]
     },
     "metadata": {},
     "output_type": "display_data"
    },
    {
     "name": "stdout",
     "output_type": "stream",
     "text": [
      "✅ Chunk 55 saved to enriched_chunk_0055.csv\n",
      "\n",
      "--- Processing Chunk 56 (20,000 QIDs) ---\n",
      "🔍 Cache hit: 0. Missing: 20,000.\n"
     ]
    },
    {
     "data": {
      "application/vnd.jupyter.widget-view+json": {
       "model_id": "d81047bac8da439f84004f4e62163d65",
       "version_major": 2,
       "version_minor": 0
      },
      "text/plain": [
       "Fetching from Wikidata:   0%|          | 0/400 [00:00<?, ?it/s]"
      ]
     },
     "metadata": {},
     "output_type": "display_data"
    },
    {
     "data": {
      "application/vnd.jupyter.widget-view+json": {
       "model_id": "8a774380b30c4d8c809e7569c0f6c499",
       "version_major": 2,
       "version_minor": 0
      },
      "text/plain": [
       "Fetching labels:   0%|          | 0/13 [00:00<?, ?it/s]"
      ]
     },
     "metadata": {},
     "output_type": "display_data"
    },
    {
     "name": "stdout",
     "output_type": "stream",
     "text": [
      "✅ Chunk 56 saved to enriched_chunk_0056.csv\n",
      "\n",
      "--- Processing Chunk 57 (5,607 QIDs) ---\n",
      "🔍 Cache hit: 0. Missing: 5,607.\n"
     ]
    },
    {
     "data": {
      "application/vnd.jupyter.widget-view+json": {
       "model_id": "2d9aa95e7e41416cb929543f10295acf",
       "version_major": 2,
       "version_minor": 0
      },
      "text/plain": [
       "Fetching from Wikidata:   0%|          | 0/113 [00:00<?, ?it/s]"
      ]
     },
     "metadata": {},
     "output_type": "display_data"
    },
    {
     "data": {
      "application/vnd.jupyter.widget-view+json": {
       "model_id": "71a4628b612342f79932a89525121229",
       "version_major": 2,
       "version_minor": 0
      },
      "text/plain": [
       "Fetching labels:   0%|          | 0/4 [00:00<?, ?it/s]"
      ]
     },
     "metadata": {},
     "output_type": "display_data"
    },
    {
     "name": "stdout",
     "output_type": "stream",
     "text": [
      "✅ Chunk 57 saved to enriched_chunk_0057.csv\n",
      "\n",
      "🏁 All QIDs processed.\n"
     ]
    }
   ],
   "source": [
    "# Cell 5: Main Enrichment Loop\n",
    "\n",
    "# This is the main, long-running cell of the notebook. It iterates through  all 1.1 million QIDs in chunks. \n",
    "# For each chunk, it checks the cache, fetches any missing data from the Wikidata API, and saves the enriched chunk to a temporary file.\n",
    "\n",
    "# --- Configuration ---\n",
    "CHUNK_SIZE = 20000  # How many profiles to process before saving a file\n",
    "BATCH_SIZE = 50     # How many QIDs to send to the API at once\n",
    "API_SLEEP = CONF[\"api_sleep\"]\n",
    "LANG = CONF[\"language\"]\n",
    "\n",
    "# --- Resumability Logic ---\n",
    "# Find the last completed chunk to avoid re-processing everything\n",
    "existing_chunks = sorted(TMP_ENRICHED_DIR.glob(\"enriched_chunk_*.csv\"))\n",
    "start_chunk_num = 0\n",
    "if existing_chunks:\n",
    "    last_file = existing_chunks[-1].name\n",
    "    match = re.search(r\"enriched_chunk_(\\d+)\\.csv$\", last_file)\n",
    "    if match:\n",
    "        start_chunk_num = int(match.group(1))\n",
    "\n",
    "resume_offset = start_chunk_num * CHUNK_SIZE\n",
    "print(f\"▶️ Resuming from row {resume_offset:,} (found {start_chunk_num} completed chunks).\")\n",
    "\n",
    "# Create an iterator for QIDs, skipping those already processed\n",
    "qids_iter = itertools.islice(seed_df[\"qid\"].astype(str), resume_offset, None)\n",
    "\n",
    "# --- Main Loop ---\n",
    "current_chunk_num = start_chunk_num\n",
    "while True:\n",
    "    # Get the next chunk of QIDs from our iterator\n",
    "    qids_in_chunk = list(itertools.islice(qids_iter, CHUNK_SIZE))\n",
    "    if not qids_in_chunk:\n",
    "        print(\"\\n🏁 All QIDs processed.\")\n",
    "        break\n",
    "\n",
    "    current_chunk_num += 1\n",
    "    print(f\"\\n--- Processing Chunk {current_chunk_num} ({len(qids_in_chunk):,} QIDs) ---\")\n",
    "\n",
    "    # Check cache to see which QIDs we already have\n",
    "    cached_entities = cache_get_entity_min(qids_in_chunk)\n",
    "    missing_qids = [q for q in qids_in_chunk if q not in cached_entities]\n",
    "    print(f\"🔍 Cache hit: {len(cached_entities):,}. Missing: {len(missing_qids):,}.\")\n",
    "\n",
    "    # Fetch missing QIDs from API in batches and save them to the cache\n",
    "    if missing_qids:\n",
    "        all_value_qids_in_chunk = set()\n",
    "        for i in tqdm(range(0, len(missing_qids), BATCH_SIZE), desc=\"Fetching from Wikidata\"):\n",
    "            batch = missing_qids[i:i + BATCH_SIZE]\n",
    "            new_rows, value_qids = wd_get_enriched_entities(batch, lang=LANG)\n",
    "            if new_rows:\n",
    "                cache_put_entity_min(new_rows)\n",
    "                all_value_qids_in_chunk.update(value_qids)\n",
    "            time.sleep(API_SLEEP)\n",
    "        \n",
    "        # After fetching data, ensure all necessary labels are also cached\n",
    "        cached_labels = cache_get_labels(list(all_value_qids_in_chunk), lang=LANG)\n",
    "        missing_labels = [q for q in all_value_qids_in_chunk if q not in cached_labels]\n",
    "        if missing_labels:\n",
    "            for i in tqdm(range(0, len(missing_labels), BATCH_SIZE), desc=\"Fetching labels\"):\n",
    "                batch = missing_labels[i:i + BATCH_SIZE]\n",
    "                labels = wd_get_labels(batch, lang=LANG)\n",
    "                if labels:\n",
    "                    cache_put_labels(labels, lang=LANG)\n",
    "                time.sleep(API_SLEEP)\n",
    "\n",
    "    # Assemble the final enriched data for this chunk (from the cache) and save it\n",
    "    final_chunk_data = cache_get_entity_min(qids_in_chunk)\n",
    "    out_path = TMP_ENRICHED_DIR / f\"enriched_chunk_{current_chunk_num:04d}.csv\"\n",
    "    pd.DataFrame.from_records(list(final_chunk_data.values())).to_csv(out_path, index=False)\n",
    "    print(f\"✅ Chunk {current_chunk_num} saved to {out_path.name}\")"
   ]
  },
  {
   "cell_type": "code",
   "execution_count": 8,
   "id": "7fdec342-8c46-4998-a23d-2f0b98195bba",
   "metadata": {},
   "outputs": [
    {
     "name": "stdout",
     "output_type": "stream",
     "text": [
      "\n",
      "--- Applying Normalization and Collecting Stats ---\n",
      "Building master label cache for 83,585 unique QIDs...\n",
      "✅ Master label cache complete.\n"
     ]
    },
    {
     "data": {
      "application/vnd.jupyter.widget-view+json": {
       "model_id": "4d50735881814bb9b1b40f8fd837a2f5",
       "version_major": 2,
       "version_minor": 0
      },
      "text/plain": [
       "Normalizing chunks:   0%|          | 0/57 [00:00<?, ?it/s]"
      ]
     },
     "metadata": {},
     "output_type": "display_data"
    },
    {
     "name": "stdout",
     "output_type": "stream",
     "text": [
      "\n",
      "🏁 Normalization processing complete. Generating preview...\n",
      "\n",
      "--- Data Quality Preview ---\n",
      "\n",
      "Percentage of Unknown Values:\n",
      "  - Gender:     0.41%\n",
      "  - Country:    13.18% (after fallback to place of birth)\n",
      "  - Occupation: 4.57%\n",
      "\n",
      "Top 10 Countries:\n",
      "  1. United States        |  221,066 (19.64%)\n",
      "  2. unknown              |  148,389 (13.18%)\n",
      "  3. United Kingdom       |   72,514 (6.44%)\n",
      "  4. Canada               |   36,260 (3.22%)\n",
      "  5. India                |   32,609 (2.90%)\n",
      "  6. Australia            |   29,574 (2.63%)\n",
      "  7. France               |   28,271 (2.51%)\n",
      "  8. Germany              |   27,240 (2.42%)\n",
      "  9. Japan                |   25,506 (2.27%)\n",
      "  10. Italy                |   20,771 (1.85%)\n",
      "\n",
      "Top 20 Occupations:\n",
      "  01. association football player    |  177,900 (15.80%)\n",
      "  02. politician                     |  108,109 (9.60%)\n",
      "  03. actor                          |   53,606 (4.76%)\n",
      "  04. unknown                        |   51,492 (4.57%)\n",
      "  05. writer                         |   29,906 (2.66%)\n",
      "  06. american football player       |   27,262 (2.42%)\n",
      "  07. singer                         |   23,795 (2.11%)\n",
      "  08. basketball player              |   20,401 (1.81%)\n",
      "  09. cricketer                      |   19,906 (1.77%)\n",
      "  10. athletics competitor           |   18,725 (1.66%)\n",
      "  11. ice hockey player              |   17,598 (1.56%)\n",
      "  12. journalist                     |   17,275 (1.53%)\n",
      "  13. baseball player                |   15,539 (1.38%)\n",
      "  14. rugby union player             |   13,361 (1.19%)\n",
      "  15. sport cyclist                  |   12,714 (1.13%)\n",
      "  16. film director                  |   11,859 (1.05%)\n",
      "  17. lawyer                         |   11,002 (0.98%)\n",
      "  18. businessperson                 |   10,200 (0.91%)\n",
      "  19. swimmer                        |   10,076 (0.90%)\n",
      "  20. musician                       |    9,924 (0.88%)\n"
     ]
    }
   ],
   "source": [
    "# Cell 6: Normalization \n",
    "\n",
    "# --- 1. Helper Function to Parse QID Strings ---\n",
    "def parse_qids_pipe(value: str) -> list:\n",
    "    \"\"\"Safely splits a pipe-separated string of QIDs into a list.\"\"\"\n",
    "    if pd.isna(value) or value == \"\":\n",
    "        return []\n",
    "    return [item.strip() for item in str(value).split('|') if item.strip()]\n",
    "\n",
    "# --- 2. Normalization Dictionaries and Functions ---\n",
    "\n",
    "# GENDER NORMALIZATION\n",
    "GENDER_MAP = {\n",
    "    \"Q6581097\": \"male\", \"Q6581072\": \"female\", \"Q1052281\": \"trans woman\",\n",
    "    \"Q2449503\": \"trans man\", \"Q48270\": \"non-binary\", \"Q1097630\": \"intersex\"\n",
    "}\n",
    "def normalize_gender(qids: list) -> str:\n",
    "    priority = [\"trans woman\", \"trans man\", \"non-binary\", \"male\", \"female\", \"intersex\"]\n",
    "    seen_genders = {GENDER_MAP[q] for q in qids if q in GENDER_MAP}\n",
    "    if not seen_genders: return \"unknown\"\n",
    "    for p in priority:\n",
    "        if p in seen_genders: return p\n",
    "    return sorted(seen_genders)[0]\n",
    "\n",
    "# COUNTRY NORMALIZATION (with Place of Birth Fallback)\n",
    "COUNTRY_SYNONYMS = {\n",
    "    \"United States of America\": \"United States\", \"USA\": \"United States\",\n",
    "    \"United Kingdom\": \"United Kingdom\", \"Great Britain\": \"United Kingdom\",\n",
    "    \"Russian Federation\": \"Russia\", \"People's Republic of China\": \"China\"\n",
    "}\n",
    "def normalize_country(country_qids, pob_qids, label_cache) -> str:\n",
    "    def get_cleaned_labels(qids):\n",
    "        labels = [label_cache.get(q) for q in qids]\n",
    "        return [COUNTRY_SYNONYMS.get(lbl, lbl) for lbl in labels if lbl]\n",
    "\n",
    "    for qid_list in [country_qids, pob_qids]:\n",
    "        labels = get_cleaned_labels(qid_list)\n",
    "        if labels: return labels[0]\n",
    "    return \"unknown\"\n",
    "\n",
    "# OCCUPATION NORMALIZATION \n",
    "OCC_SYNONYMS = {\n",
    "    \"footballer\": \"association football player\", \"soccer player\": \"association football player\",\n",
    "    \"actress\": \"actor\", \"movie actor\": \"actor\", \"film actor\": \"actor\",\n",
    "    \"author\": \"writer\", \"novelist\": \"writer\",\n",
    "    \"businessman\": \"businessperson\", \"businesswoman\": \"businessperson\",\n",
    "    \"doctor\": \"physician\", \"surgeon\": \"physician\"\n",
    "}\n",
    "def normalize_occupation(qids: list, label_cache) -> str:\n",
    "    \"\"\"Returns a canonical primary occupation from a list of occupation QIDs.\"\"\"\n",
    "    if not qids: return \"unknown\"\n",
    "    \n",
    "    # Safely get and clean labels, skipping any that are None\n",
    "    cleaned_labels = []\n",
    "    for q in qids:\n",
    "        label = label_cache.get(q)\n",
    "        if label: # This check prevents the error on None values\n",
    "            cleaned_labels.append(label.lower())\n",
    "            \n",
    "    norm_labels = [OCC_SYNONYMS.get(lbl, lbl) for lbl in cleaned_labels if lbl]\n",
    "    return norm_labels[0] if norm_labels else \"unknown\"\n",
    "\n",
    "\n",
    "# --- 3. Processing Loop with Stats Collection ---\n",
    "print(\"\\n--- Applying Normalization and Collecting Stats ---\")\n",
    "\n",
    "enriched_files = sorted(TMP_ENRICHED_DIR.glob(\"enriched_chunk_*.csv\"))\n",
    "if not enriched_files:\n",
    "    print(\"⚠️ No enriched files found to normalize. Please run the previous cell first.\")\n",
    "else:\n",
    "    all_value_qids = set()\n",
    "    for f in enriched_files:\n",
    "        df = pd.read_csv(f, keep_default_na=False)\n",
    "        for col in [\"gender_qids\", \"country_qids\", \"occupation_qids\", \"pob_qids\"]:\n",
    "            if col in df.columns:\n",
    "                df[col].apply(lambda x: all_value_qids.update(parse_qids_pipe(x)))\n",
    "\n",
    "    print(f\"Building master label cache for {len(all_value_qids):,} unique QIDs...\")\n",
    "    cached_labels = cache_get_labels(list(all_value_qids), lang=LANG)\n",
    "    missing_labels = [q for q in all_value_qids if q not in cached_labels]\n",
    "    if missing_labels:\n",
    "        for i in tqdm(range(0, len(missing_labels), BATCH_SIZE), desc=\"Fetching final labels\"):\n",
    "            batch = missing_labels[i:i + BATCH_SIZE]\n",
    "            labels = wd_get_labels(batch, lang=LANG)\n",
    "            if labels: cache_put_labels(labels, lang=LANG)\n",
    "    \n",
    "    LABEL_CACHE = cache_get_labels(list(all_value_qids), lang=LANG)\n",
    "    print(\"✅ Master label cache complete.\")\n",
    "\n",
    "    gender_counts, country_counts, occupation_counts = Counter(), Counter(), Counter()\n",
    "\n",
    "    for f in tqdm(enriched_files, desc=\"Normalizing chunks\"):\n",
    "        df = pd.read_csv(f, keep_default_na=False)\n",
    "        out_path = TMP_NORMALIZED_DIR / f.name.replace(\"enriched_\", \"normalized_\")\n",
    "\n",
    "        df[\"gender\"] = df[\"gender_qids\"].apply(parse_qids_pipe).apply(normalize_gender)\n",
    "        df[\"country\"] = df.apply(\n",
    "            lambda row: normalize_country(\n",
    "                parse_qids_pipe(row.get(\"country_qids\", \"\")),\n",
    "                parse_qids_pipe(row.get(\"pob_qids\", \"\")),\n",
    "                LABEL_CACHE), axis=1)\n",
    "        df[\"occupation\"] = df[\"occupation_qids\"].apply(parse_qids_pipe).apply(\n",
    "            lambda qids: normalize_occupation(qids, LABEL_CACHE))\n",
    "\n",
    "        gender_counts.update(df[\"gender\"])\n",
    "        country_counts.update(df[\"country\"])\n",
    "        occupation_counts.update(df[\"occupation\"])\n",
    "\n",
    "        df[[\"qid\", \"title\", \"gender\", \"country\", \"occupation\"]].to_csv(out_path, index=False)\n",
    "\n",
    "    print(\"\\n🏁 Normalization processing complete. Generating preview...\")\n",
    "    \n",
    "    # --- 4. Generate and Display Preview ---\n",
    "    total_rows = sum(gender_counts.values())\n",
    "    \n",
    "    print(\"\\n--- Data Quality Preview ---\")\n",
    "    \n",
    "    unknown_gender_pct = (gender_counts['unknown'] / total_rows) * 100\n",
    "    unknown_country_pct = (country_counts['unknown'] / total_rows) * 100\n",
    "    unknown_occupation_pct = (occupation_counts['unknown'] / total_rows) * 100\n",
    "    \n",
    "    print(f\"\\nPercentage of Unknown Values:\")\n",
    "    print(f\"  - Gender:     {unknown_gender_pct:.2f}%\")\n",
    "    print(f\"  - Country:    {unknown_country_pct:.2f}% (after fallback to place of birth)\")\n",
    "    print(f\"  - Occupation: {unknown_occupation_pct:.2f}%\")\n",
    "        \n",
    "    print(\"\\nTop 10 Countries:\")\n",
    "    for i, (country, count) in enumerate(country_counts.most_common(10)):\n",
    "        pct = (count / total_rows) * 100\n",
    "        print(f\"  {i+1}. {country:<20} | {count:>8,} ({pct:.2f}%)\")\n",
    "        \n",
    "    print(\"\\nTop 20 Occupations:\")\n",
    "    for i, (occ, count) in enumerate(occupation_counts.most_common(20)):\n",
    "        pct = (count / total_rows) * 100\n",
    "        print(f\"  {i+1:02}. {occ:<30} | {count:>8,} ({pct:.2f}%)\")"
   ]
  },
  {
   "cell_type": "code",
   "execution_count": null,
   "id": "070f421c-d3e9-4ec8-aebf-186391d8e879",
   "metadata": {},
   "outputs": [],
   "source": []
  }
 ],
 "metadata": {
  "kernelspec": {
   "display_name": "Python 3 (ipykernel)",
   "language": "python",
   "name": "python3"
  },
  "language_info": {
   "codemirror_mode": {
    "name": "ipython",
    "version": 3
   },
   "file_extension": ".py",
   "mimetype": "text/x-python",
   "name": "python",
   "nbconvert_exporter": "python",
   "pygments_lexer": "ipython3",
   "version": "3.11.13"
  }
 },
 "nbformat": 4,
 "nbformat_minor": 5
}
